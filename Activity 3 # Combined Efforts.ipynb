{
 "cells": [
  {
   "cell_type": "code",
   "execution_count": 1,
   "id": "15013d6a",
   "metadata": {},
   "outputs": [],
   "source": [
    "import pandas as pd\n",
    "from sklearn import datasets, linear_model\n",
    "from sklearn.linear_model import LinearRegression\n",
    "import numpy as np\n",
    "\n",
    "import seaborn as sns\n",
    "import matplotlib.pyplot as plt"
   ]
  },
  {
   "cell_type": "code",
   "execution_count": 45,
   "id": "1cf76f3c",
   "metadata": {},
   "outputs": [],
   "source": [
    "sd = pd.read_csv('data_download.csv')\n",
    "sd.columns\n",
    "sd.isnull().sum()\n",
    "\n",
    "# cleaning columns\n",
    "sdnew = sd.drop('symbol',axis=\"columns\")\n",
    "sdnew = sdnew.drop('exchange',axis=\"columns\")\n",
    "sdnew = sdnew.drop('option symbol',axis=\"columns\")\n",
    "sdnew = sdnew.drop('rho',axis=\"columns\")\n",
    "sdnew = sdnew.drop('theta',axis=\"columns\")\n",
    "sdnew = sdnew.drop('gamma',axis=\"columns\")\n",
    "sdnew = sdnew.drop('vega',axis=\"columns\")\n",
    "sdnew = sdnew.drop('*',axis=\"columns\")\n",
    "sdnew = sdnew.drop('expiration',axis=\"columns\")\n",
    "sdnew.columns\n",
    "sdnew.head()\n",
    "\n",
    "df = sdnew"
   ]
  },
  {
   "cell_type": "code",
   "execution_count": 34,
   "id": "bcacbe5c",
   "metadata": {},
   "outputs": [
    {
     "data": {
      "image/png": "[encoded data removed]",
      "text/plain": [
       "<Figure size 432x288 with 2 Axes>"
      ]
     },
     "metadata": {
      "needs_background": "light"
     },
     "output_type": "display_data"
    }
   ],
   "source": [
    "sns.heatmap(df.corr());"
   ]
  },
  {
   "cell_type": "code",
   "execution_count": 32,
   "id": "37920f8c",
   "metadata": {},
   "outputs": [
    {
     "data": {
      "text/html": [
       "<div>\n",
       "<style scoped>\n",
       "    .dataframe tbody tr th:only-of-type {\n",
       "        vertical-align: middle;\n",
       "    }\n",
       "\n",
       "    .dataframe tbody tr th {\n",
       "        vertical-align: top;\n",
       "    }\n",
       "\n",
       "    .dataframe thead th {\n",
       "        text-align: right;\n",
       "    }\n",
       "</style>\n",
       "<table border=\"1\" class=\"dataframe\">\n",
       "  <thead>\n",
       "    <tr style=\"text-align: right;\">\n",
       "      <th></th>\n",
       "      <th>date</th>\n",
       "      <th>adjusted close</th>\n",
       "      <th>expiration</th>\n",
       "      <th>strike</th>\n",
       "      <th>call/put</th>\n",
       "      <th>style</th>\n",
       "      <th>ask</th>\n",
       "      <th>bid</th>\n",
       "      <th>mean price</th>\n",
       "      <th>iv</th>\n",
       "      <th>volume</th>\n",
       "      <th>open interest</th>\n",
       "      <th>stock price for iv</th>\n",
       "    </tr>\n",
       "  </thead>\n",
       "  <tbody>\n",
       "    <tr>\n",
       "      <th>0</th>\n",
       "      <td>01/18/2023</td>\n",
       "      <td>391.49</td>\n",
       "      <td>01/18/2023</td>\n",
       "      <td>320.0</td>\n",
       "      <td>C</td>\n",
       "      <td>A</td>\n",
       "      <td>72.02</td>\n",
       "      <td>70.82</td>\n",
       "      <td>71.42</td>\n",
       "      <td>-1.0</td>\n",
       "      <td>3</td>\n",
       "      <td>3</td>\n",
       "      <td>391.45</td>\n",
       "    </tr>\n",
       "    <tr>\n",
       "      <th>1</th>\n",
       "      <td>01/18/2023</td>\n",
       "      <td>391.49</td>\n",
       "      <td>01/18/2023</td>\n",
       "      <td>320.0</td>\n",
       "      <td>P</td>\n",
       "      <td>A</td>\n",
       "      <td>0.01</td>\n",
       "      <td>0.00</td>\n",
       "      <td>0.00</td>\n",
       "      <td>-1.0</td>\n",
       "      <td>2</td>\n",
       "      <td>239</td>\n",
       "      <td>391.45</td>\n",
       "    </tr>\n",
       "    <tr>\n",
       "      <th>2</th>\n",
       "      <td>01/18/2023</td>\n",
       "      <td>391.49</td>\n",
       "      <td>01/18/2023</td>\n",
       "      <td>323.0</td>\n",
       "      <td>C</td>\n",
       "      <td>A</td>\n",
       "      <td>69.02</td>\n",
       "      <td>67.82</td>\n",
       "      <td>68.42</td>\n",
       "      <td>-1.0</td>\n",
       "      <td>1</td>\n",
       "      <td>0</td>\n",
       "      <td>391.45</td>\n",
       "    </tr>\n",
       "    <tr>\n",
       "      <th>3</th>\n",
       "      <td>01/18/2023</td>\n",
       "      <td>391.49</td>\n",
       "      <td>01/18/2023</td>\n",
       "      <td>323.0</td>\n",
       "      <td>P</td>\n",
       "      <td>A</td>\n",
       "      <td>0.01</td>\n",
       "      <td>0.00</td>\n",
       "      <td>0.00</td>\n",
       "      <td>-1.0</td>\n",
       "      <td>0</td>\n",
       "      <td>240</td>\n",
       "      <td>391.45</td>\n",
       "    </tr>\n",
       "    <tr>\n",
       "      <th>4</th>\n",
       "      <td>01/18/2023</td>\n",
       "      <td>391.49</td>\n",
       "      <td>01/18/2023</td>\n",
       "      <td>324.0</td>\n",
       "      <td>C</td>\n",
       "      <td>A</td>\n",
       "      <td>68.02</td>\n",
       "      <td>66.82</td>\n",
       "      <td>67.42</td>\n",
       "      <td>-1.0</td>\n",
       "      <td>1</td>\n",
       "      <td>0</td>\n",
       "      <td>391.45</td>\n",
       "    </tr>\n",
       "  </tbody>\n",
       "</table>\n",
       "</div>"
      ],
      "text/plain": [
       "         date  adjusted close  expiration  strike call/put style    ask  \\\n",
       "0  01/18/2023          391.49  01/18/2023   320.0        C     A  72.02   \n",
       "1  01/18/2023          391.49  01/18/2023   320.0        P     A   0.01   \n",
       "2  01/18/2023          391.49  01/18/2023   323.0        C     A  69.02   \n",
       "3  01/18/2023          391.49  01/18/2023   323.0        P     A   0.01   \n",
       "4  01/18/2023          391.49  01/18/2023   324.0        C     A  68.02   \n",
       "\n",
       "     bid  mean price   iv  volume  open interest  stock price for iv  \n",
       "0  70.82       71.42 -1.0       3              3              391.45  \n",
       "1   0.00        0.00 -1.0       2            239              391.45  \n",
       "2  67.82       68.42 -1.0       1              0              391.45  \n",
       "3   0.00        0.00 -1.0       0            240              391.45  \n",
       "4  66.82       67.42 -1.0       1              0              391.45  "
      ]
     },
     "execution_count": 32,
     "metadata": {},
     "output_type": "execute_result"
    }
   ],
   "source": [
    "df.head()"
   ]
  },
  {
   "cell_type": "code",
   "execution_count": 71,
   "id": "b0b8d3f5",
   "metadata": {},
   "outputs": [],
   "source": [
    "\n",
    "# trying new model\n",
    "from sklearn.model_selection import train_test_split\n",
    "train , test = train_test_split(df, test_size = 0.3)\n",
    "\n",
    "train.head()\n",
    "\n",
    "x_train = train[['delta','strike','bid']]\n",
    "\n",
    "y_train = train['iv']\n",
    "\n",
    "x_test = test[['delta','strike','bid']]\n",
    "y_test = test['iv']"
   ]
  },
  {
   "cell_type": "code",
   "execution_count": 72,
   "id": "46144b84",
   "metadata": {},
   "outputs": [],
   "source": [
    "from sklearn.preprocessing import MinMaxScaler\n",
    "scaler = MinMaxScaler(feature_range=(0, 1))\n",
    "\n",
    "x_train_scaled = scaler.fit_transform(x_train)\n",
    "x_train = pd.DataFrame(x_train_scaled)\n",
    "\n",
    "x_test_scaled = scaler.fit_transform(x_test)\n",
    "x_test = pd.DataFrame(x_test_scaled)"
   ]
  },
  {
   "cell_type": "code",
   "execution_count": 63,
   "id": "63b592ac",
   "metadata": {},
   "outputs": [],
   "source": [
    "#import required packages\n",
    "from sklearn import neighbors\n",
    "from sklearn.metrics import mean_squared_error \n",
    "from math import sqrt\n",
    "import matplotlib.pyplot as plt\n",
    "%matplotlib inline"
   ]
  },
  {
   "cell_type": "code",
   "execution_count": 73,
   "id": "fc0f94d3",
   "metadata": {},
   "outputs": [
    {
     "name": "stdout",
     "output_type": "stream",
     "text": [
      "RMSE value for k=  1 is: 0.1916906914733098\n",
      "RMSE value for k=  2 is: 0.16315321701555432\n",
      "RMSE value for k=  3 is: 0.15214025022229313\n",
      "RMSE value for k=  4 is: 0.15030021770124685\n",
      "RMSE value for k=  5 is: 0.14754339498659\n",
      "RMSE value for k=  6 is: 0.14553770474283978\n",
      "RMSE value for k=  7 is: 0.14445830278325925\n",
      "RMSE value for k=  8 is: 0.1433895804542243\n",
      "RMSE value for k=  9 is: 0.14234383490439334\n",
      "RMSE value for k=  10 is: 0.14203194479273792\n",
      "RMSE value for k=  11 is: 0.14287429909787636\n",
      "RMSE value for k=  12 is: 0.1439256430315728\n",
      "RMSE value for k=  13 is: 0.14312922357679575\n",
      "RMSE value for k=  14 is: 0.14296032408345286\n",
      "RMSE value for k=  15 is: 0.14277058023827768\n",
      "RMSE value for k=  16 is: 0.14324476749848167\n",
      "RMSE value for k=  17 is: 0.1436014460589363\n",
      "RMSE value for k=  18 is: 0.14358541817780945\n",
      "RMSE value for k=  19 is: 0.14382253018110375\n",
      "RMSE value for k=  20 is: 0.14446283152122114\n"
     ]
    }
   ],
   "source": [
    "rmse_val = [] #to store rmse values for different k\n",
    "for K in range(20):\n",
    "    K = K+1\n",
    "    model = neighbors.KNeighborsRegressor(n_neighbors = K)\n",
    "\n",
    "    model.fit(x_train, y_train)  #fit the model\n",
    "    pred=model.predict(x_test) #make prediction on test set\n",
    "    error = sqrt(mean_squared_error(y_test,pred)) #calculate rmse\n",
    "    rmse_val.append(error) #store rmse values\n",
    "    print('RMSE value for k= ' , K , 'is:', error)"
   ]
  },
  {
   "cell_type": "code",
   "execution_count": 74,
   "id": "887091aa",
   "metadata": {},
   "outputs": [
    {
     "data": {
      "text/plain": [
       "<AxesSubplot:>"
      ]
     },
     "execution_count": 74,
     "metadata": {},
     "output_type": "execute_result"
    },
    {
     "data": {
      "image/png": "[encoded data removed]",
      "text/plain": [
       "<Figure size 432x288 with 1 Axes>"
      ]
     },
     "metadata": {
      "needs_background": "light"
     },
     "output_type": "display_data"
    }
   ],
   "source": [
    "#plotting the rmse values against k values\n",
    "curve = pd.DataFrame(rmse_val) #elbow curve \n",
    "curve.plot()"
   ]
  },
  {
   "cell_type": "code",
   "execution_count": 75,
   "id": "a849b35b",
   "metadata": {},
   "outputs": [
    {
     "data": {
      "text/plain": [
       "{'n_neighbors': 9}"
      ]
     },
     "execution_count": 75,
     "metadata": {},
     "output_type": "execute_result"
    }
   ],
   "source": [
    "from sklearn.model_selection import GridSearchCV\n",
    "params = {'n_neighbors':[2,3,4,5,6,7,8,9]}\n",
    "\n",
    "knn = neighbors.KNeighborsRegressor()\n",
    "\n",
    "model = GridSearchCV(knn, params, cv=5)\n",
    "model.fit(x_train,y_train)\n",
    "model.best_params_"
   ]
  },
  {
   "cell_type": "code",
   "execution_count": null,
   "id": "b4310978",
   "metadata": {},
   "outputs": [],
   "source": []
  }
 ],
 "metadata": {
  "kernelspec": {
   "display_name": "Python 3 (ipykernel)",
   "language": "python",
   "name": "python3"
  },
  "language_info": {
   "codemirror_mode": {
    "name": "ipython",
    "version": 3
   },
   "file_extension": ".py",
   "mimetype": "text/x-python",
   "name": "python",
   "nbconvert_exporter": "python",
   "pygments_lexer": "ipython3",
   "version": "3.9.12"
  }
 },
 "nbformat": 4,
 "nbformat_minor": 5
}
